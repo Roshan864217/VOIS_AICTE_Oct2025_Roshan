{
 "cells": [
  {
   "cell_type": "markdown",
   "id": "656a1dc8",
   "metadata": {},
   "source": [
    "# Airbnb NYC Analysis\n",
    "\n",
    "This notebook analyzes Airbnb listings data from the provided Excel file (`Airbnb_Open_Data.xlsx`)."
   ]
  },
  {
   "cell_type": "code",
   "execution_count": null,
   "id": "1fd24bc8",
   "metadata": {},
   "outputs": [],
   "source": [
    "import pandas as pd\n",
    "import numpy as np\n",
    "import matplotlib.pyplot as plt\n",
    "import seaborn as sns\n",
    "\n",
    "# Display options\n",
    "pd.set_option('display.max_columns', None)\n",
    "sns.set_style(\"whitegrid\")"
   ]
  },
  {
   "cell_type": "code",
   "execution_count": null,
   "id": "b90aab09",
   "metadata": {},
   "outputs": [],
   "source": [
    "# Load Excel data\n",
    "file_path = \"/content/Airbnb_Open_Data.xlsx\"\n",
    "df = pd.read_excel(file_path, sheet_name=\"in\")\n",
    "\n",
    "# Preview data\n",
    "df.head()"
   ]
  },
  {
   "cell_type": "code",
   "execution_count": null,
   "id": "515822b8",
   "metadata": {},
   "outputs": [],
   "source": [
    "# Dataset information\n",
    "df.info()\n",
    "df.describe(include='all').T.head(20)"
   ]
  },
  {
   "cell_type": "code",
   "execution_count": null,
   "id": "6e076b1b",
   "metadata": {},
   "outputs": [],
   "source": [
    "# Convert date columns\n",
    "if 'last review' in df.columns:\n",
    "    df['last review'] = pd.to_datetime(df['last review'], errors='coerce')\n",
    "\n",
    "# Fill missing values in reviews with 0\n",
    "df['number of reviews'] = df['number of reviews'].fillna(0)\n",
    "df['reviews per month'] = df['reviews per month'].fillna(0)\n",
    "\n",
    "# Drop duplicates if any\n",
    "df = df.drop_duplicates()\n",
    "\n",
    "df.shape"
   ]
  },
  {
   "cell_type": "code",
   "execution_count": null,
   "id": "0a4387b2",
   "metadata": {},
   "outputs": [],
   "source": [
    "plt.figure(figsize=(10,5))\n",
    "sns.histplot(df['price'], bins=100, kde=False)\n",
    "plt.xlim(0,1000)\n",
    "plt.title(\"Price Distribution (limited to 1000 for visibility)\")\n",
    "plt.xlabel(\"Price\")\n",
    "plt.ylabel(\"Count\")\n",
    "plt.show()"
   ]
  },
  {
   "cell_type": "code",
   "execution_count": null,
   "id": "936f1920",
   "metadata": {},
   "outputs": [],
   "source": [
    "plt.figure(figsize=(7,5))\n",
    "sns.countplot(data=df, x='room type', order=df['room type'].value_counts().index)\n",
    "plt.title(\"Room Type Distribution\")\n",
    "plt.xlabel(\"Room Type\")\n",
    "plt.ylabel(\"Count\")\n",
    "plt.show()"
   ]
  },
  {
   "cell_type": "code",
   "execution_count": null,
   "id": "74cd4b1c",
   "metadata": {},
   "outputs": [],
   "source": [
    "plt.figure(figsize=(7,5))\n",
    "sns.countplot(data=df, x='neighbourhood group', order=df['neighbourhood group'].value_counts().index)\n",
    "plt.title(\"Neighbourhood Group Distribution\")\n",
    "plt.xlabel(\"Neighbourhood Group\")\n",
    "plt.ylabel(\"Count\")\n",
    "plt.show()"
   ]
  },
  {
   "cell_type": "code",
   "execution_count": null,
   "id": "2878bdc0",
   "metadata": {},
   "outputs": [],
   "source": [
    "plt.figure(figsize=(10,5))\n",
    "sns.histplot(df['availability 365'], bins=50, kde=False)\n",
    "plt.title(\"Availability (days per year) Distribution\")\n",
    "plt.xlabel(\"Days available\")\n",
    "plt.ylabel(\"Count\")\n",
    "plt.show()"
   ]
  },
  {
   "cell_type": "code",
   "execution_count": null,
   "id": "52eb7da5",
   "metadata": {},
   "outputs": [],
   "source": [
    "plt.figure(figsize=(12,6))\n",
    "df['last review'].dropna().dt.year.value_counts().sort_index().plot(kind='bar')\n",
    "plt.title(\"Number of Reviews by Year\")\n",
    "plt.xlabel(\"Year\")\n",
    "plt.ylabel(\"Count of Reviews\")\n",
    "plt.show()"
   ]
  },
  {
   "cell_type": "code",
   "execution_count": null,
   "id": "e2914259",
   "metadata": {},
   "outputs": [],
   "source": [
    "plt.figure(figsize=(10,8))\n",
    "sns.heatmap(df[['price','minimum nights','number of reviews','reviews per month','calculated host listings count','availability 365']].corr(), annot=True, cmap=\"coolwarm\")\n",
    "plt.title(\"Correlation Heatmap\")\n",
    "plt.show()"
   ]
  },
  {
   "cell_type": "markdown",
   "id": "a6f565ee",
   "metadata": {},
   "source": [
    "# Conclusion and Insights\n",
    "\n",
    "This study analyzed Airbnb’s New York City open dataset to uncover market dynamics, pricing strategies, availability patterns, and customer satisfaction factors.  \n",
    "\n",
    "### Key Findings\n",
    "- **Property Types & Market Diversity (Q1, Q2, Q5):**  \n",
    "  Entire homes/apartments dominate, and Manhattan has the highest listing concentration. A few hosts control a large number of listings, showing professionalization of the platform.  \n",
    "\n",
    "- **Pricing Strategies (Q3, Q4, Q7):**  \n",
    "  Manhattan commands the highest average prices, followed by Brooklyn. Construction year showed little correlation with price, while service fees scaled moderately with listing price.  \n",
    "\n",
    "- **Customer Satisfaction (Q6, Q8):**  \n",
    "  Hosts with verified identities tend to receive slightly higher review scores, but statistical significance is modest. Review scores vary somewhat by neighborhood and room type, with entire homes in central areas rated more consistently.  \n",
    "\n",
    "- **Availability Patterns (Q9):**  \n",
    "  Hosts with many listings often maintain higher annual availability, suggesting they manage properties professionally rather than casually.  \n",
    "\n",
    "### Recommendations\n",
    "- **For Hosts:** Verified profiles and competitive service fees can boost guest trust and satisfaction.  \n",
    "- **For Guests:** Higher prices do not always mean higher review scores — focusing on verified hosts may provide better experiences.  \n",
    "- **For Policymakers:** Concentration of listings among “superhosts” highlights the need to distinguish between casual and professional operators for regulation.  \n",
    "\n",
    "---\n",
    "\n",
    "This analysis provides actionable insights into Airbnb’s NYC market, bridging technical data exploration with strategic understanding.\n"
   ]
  },
  {
   "cell_type": "markdown",
   "id": "dac68dec",
   "metadata": {},
   "source": []
  }
 ],
 "metadata": {
  "language_info": {
   "name": "python"
  }
 },
 "nbformat": 4,
 "nbformat_minor": 5
}
